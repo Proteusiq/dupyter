{
 "cells": [
  {
   "cell_type": "code",
   "execution_count": 1,
   "metadata": {
    "jupyter": {
     "source_hidden": true
    }
   },
   "outputs": [],
   "source": [
    "# Ignore warnign from torch: Cuda\n",
    "import warnings\n",
    "warnings.filterwarnings(\"ignore\", message=\"\", category=Warning, module=\"torch\")"
   ]
  },
  {
   "cell_type": "markdown",
   "metadata": {},
   "source": [
    "## 🤗 Questions and Answers \n",
    "### In Less than 5 Lines of 🐍 Codes"
   ]
  },
  {
   "cell_type": "code",
   "execution_count": 2,
   "metadata": {},
   "outputs": [
    {
     "name": "stdout",
     "output_type": "stream",
     "text": [
      "Author: Prayson W. Daniel\n",
      "\n",
      "Last updated: 2020-12-10T09:24:31.639672+00:00\n",
      "\n",
      "Python implementation: CPython\n",
      "Python version       : 3.8.6\n",
      "IPython version      : 7.19.0\n",
      "\n",
      "matplotlib  : 3.3.3\n",
      "numpy       : 1.19.4\n",
      "torch       : 1.7.0\n",
      "transformers: 4.0.1\n",
      "\n",
      "Compiler    : GCC 8.3.0\n",
      "OS          : Linux\n",
      "Release     : 4.19.128-microsoft-standard\n",
      "Machine     : x86_64\n",
      "Processor   : \n",
      "CPU cores   : 12\n",
      "Architecture: 64bit\n",
      "\n"
     ]
    }
   ],
   "source": [
    "%reload_ext watermark\n",
    "%watermark -uniz -a \"Prayson W. Daniel\" -vm -p matplotlib,numpy,torch,transformers"
   ]
  },
  {
   "cell_type": "code",
   "execution_count": 3,
   "metadata": {},
   "outputs": [
    {
     "name": "stderr",
     "output_type": "stream",
     "text": [
      "Some weights of RobertaModel were not initialized from the model checkpoint at deepset/roberta-base-squad2 and are newly initialized: ['roberta.pooler.dense.weight', 'roberta.pooler.dense.bias']\n",
      "You should probably TRAIN this model on a down-stream task to be able to use it for predictions and inference.\n"
     ]
    }
   ],
   "source": [
    "from transformers import pipeline\n",
    "\n",
    "# Download model from HuggingFace\n",
    "MODEL_NAME = \"deepset/roberta-base-squad2\"\n",
    "nlp = pipeline(\"question-answering\", model=MODEL_NAME, tokenizer=MODEL_NAME)"
   ]
  },
  {
   "cell_type": "code",
   "execution_count": 4,
   "metadata": {},
   "outputs": [],
   "source": [
    "context = \"\"\"Prayson is here to help companies gain AI competitive advantage by growing revenue, \n",
    "             slashing production timelines, multiplying efficiency, and making smarter decisions.\n",
    "\n",
    "             Building business-driven innovative solutions with a strong focus on Microservice Architectures \n",
    "             and taking into consideration DevOps is what Prayson is passionate about.\n",
    "\n",
    "             He have substantial experience from descriptive, predictive, prescriptive, visual and text analytics \n",
    "             using Python, Golang, and Nodejs. Scikit-learn, TensorFlow, PyTorch, OpenCV, Pandas, Numpy, Scipy, \n",
    "             Statsmodels, spaCy, Plotly, Flask, FastAPI, NLP and Computer Vision tools are libraries that features \n",
    "             in his daily tasks. MLflow, Airflow, Celery, Kafka, Neo4j, Redis, Postgres, InfluxDB, MongoDB, and \n",
    "             Grafana are part of his toolkits.\n",
    "                \n",
    "             Prayson holds MSc. in Information Technology & Persuasive Design from Aalborg University and driven to help \n",
    "             stakeholders take the front-seat of ML and AI revolution.\n",
    "                \n",
    "             He doesn’t “take jobs”, he joins missions. No curriculum vitae. No cover letter. Show him your mission. \n",
    "            \"\"\""
   ]
  },
  {
   "cell_type": "code",
   "execution_count": 5,
   "metadata": {},
   "outputs": [],
   "source": [
    "questions = [\n",
    "    \"What is Prayson passionate about?\",\n",
    "    \"Where did Prayson study?\",\n",
    "    \"What education does Prayson have?\",\n",
    "    \"Which programming languages does Prayson know?\",    \n",
    "]"
   ]
  },
  {
   "cell_type": "code",
   "execution_count": 6,
   "metadata": {},
   "outputs": [],
   "source": [
    "def ask(question:str, context : str = context, nlp=nlp):\n",
    "    ask_input = { \n",
    "        \"question\": question,\n",
    "        \"context\": \" \".join(context.split()),\n",
    "        }\n",
    "    return  nlp(ask_input)"
   ]
  },
  {
   "cell_type": "code",
   "execution_count": 7,
   "metadata": {},
   "outputs": [
    {
     "name": "stdout",
     "output_type": "stream",
     "text": [
      "question: What is Prayson passionate about?\n",
      "  answer: Building business-driven innovative solutions\n",
      "\n",
      "question: Where did Prayson study?\n",
      "  answer: Aalborg University\n",
      "\n",
      "question: What education does Prayson have?\n",
      "  answer: MSc. in Information Technology & Persuasive Design\n",
      "\n",
      "question: Which programming languages does Prayson know?\n",
      "  answer: Python, Golang, and Nodejs\n",
      "\n"
     ]
    }
   ],
   "source": [
    "for question in questions:\n",
    "    print(f\"question: {question}\")\n",
    "    print(f\"  answer: {ask(question).get('answer')}\\n\")"
   ]
  },
  {
   "cell_type": "code",
   "execution_count": 8,
   "metadata": {},
   "outputs": [
    {
     "data": {
      "text/plain": [
       "{'score': 0.4885232448577881,\n",
       " 'start': 1030,\n",
       " 'end': 1042,\n",
       " 'answer': 'your mission'}"
      ]
     },
     "execution_count": 8,
     "metadata": {},
     "output_type": "execute_result"
    }
   ],
   "source": [
    "# More\n",
    "ask(question=\"What do we need to show Prayson?\")"
   ]
  },
  {
   "cell_type": "code",
   "execution_count": null,
   "metadata": {},
   "outputs": [],
   "source": []
  }
 ],
 "metadata": {
  "kernelspec": {
   "display_name": "Python 3",
   "language": "python",
   "name": "python3"
  },
  "language_info": {
   "codemirror_mode": {
    "name": "ipython",
    "version": 3
   },
   "file_extension": ".py",
   "mimetype": "text/x-python",
   "name": "python",
   "nbconvert_exporter": "python",
   "pygments_lexer": "ipython3",
   "version": "3.8.6"
  }
 },
 "nbformat": 4,
 "nbformat_minor": 4
}
